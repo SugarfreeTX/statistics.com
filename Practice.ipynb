{
 "cells": [
  {
   "cell_type": "markdown",
   "metadata": {},
   "source": [
    "\n",
    "# Question 1¶\n",
    "\n",
    "Create a Python list with the following values: [1, 2, 4, 10, 12, 117, 1244]\n",
    "\n",
    "a. Compute the sum of the values.\n",
    "\n",
    "b. Compute the mean of the values.\n",
    "\n",
    "c. Compute the product of all the numbers (multiply them all together).\n"
   ]
  },
  {
   "cell_type": "code",
   "execution_count": 1,
   "metadata": {},
   "outputs": [
    {
     "name": "stdout",
     "output_type": "stream",
     "text": [
      "1390\n"
     ]
    }
   ],
   "source": [
    "num = [1, 2, 4, 10, 12, 117, 1244]\n",
    "# a. Compute the sum of the values.\n",
    "\n",
    "total = 0\n",
    "for x in num:\n",
    "    total += x\n",
    "print(total)\n",
    "    "
   ]
  },
  {
   "cell_type": "code",
   "execution_count": 5,
   "metadata": {},
   "outputs": [
    {
     "name": "stdout",
     "output_type": "stream",
     "text": [
      "198.57142857142858\n"
     ]
    }
   ],
   "source": [
    "# b. Compute the mean.\n",
    "total = 0.0\n",
    "for x in num:\n",
    "    total += x\n",
    "mean = total/len(num)\n",
    "print(mean)\n"
   ]
  },
  {
   "cell_type": "code",
   "execution_count": 9,
   "metadata": {},
   "outputs": [
    {
     "name": "stdout",
     "output_type": "stream",
     "text": [
      "139726080\n"
     ]
    }
   ],
   "source": [
    "#c. Compute the product. \n",
    "total = 1\n",
    "for x in num:\n",
    "    total *= x\n",
    "print(total)"
   ]
  },
  {
   "cell_type": "markdown",
   "metadata": {},
   "source": [
    "\n",
    "# Question 2\n",
    "\n",
    "Write functions to do all the operations above; repeat them on the following lists of numbers:\n",
    "\n",
    "a. [3, 2, 3, 3, 3, 2, 8, 2, 2, 126]\n",
    "\n",
    "b. [7, 267, 4, 2, 5, 319, 5, 6, 713, 3]\n"
   ]
  },
  {
   "cell_type": "code",
   "execution_count": 10,
   "metadata": {},
   "outputs": [],
   "source": [
    "a = [3, 2, 3, 3, 3, 2, 8, 2, 2, 126]\n",
    "b = [7, 267, 4, 2, 5, 319, 5, 6, 713, 3]"
   ]
  },
  {
   "cell_type": "code",
   "execution_count": 17,
   "metadata": {},
   "outputs": [],
   "source": [
    "def find_sum(n):\n",
    "    total = 0.0\n",
    "    for x in n:\n",
    "        total += x\n",
    "    return total \n"
   ]
  },
  {
   "cell_type": "code",
   "execution_count": 19,
   "metadata": {},
   "outputs": [],
   "source": [
    "def mean(n):\n",
    "    total = 0.0\n",
    "    total_mean = 1.0 * find_sum(n)\n",
    "    return total_mean/len(n)\n"
   ]
  },
  {
   "cell_type": "code",
   "execution_count": 20,
   "metadata": {},
   "outputs": [],
   "source": [
    "def product(n):\n",
    "    product = 1\n",
    "    for x in n:\n",
    "        product *= x\n",
    "    return product\n"
   ]
  },
  {
   "cell_type": "markdown",
   "metadata": {},
   "source": [
    "### a)"
   ]
  },
  {
   "cell_type": "code",
   "execution_count": 21,
   "metadata": {},
   "outputs": [
    {
     "name": "stdout",
     "output_type": "stream",
     "text": [
      "154.0\n",
      "15.4\n",
      "1306368\n"
     ]
    }
   ],
   "source": [
    "print(find_sum(a))\n",
    "print(mean(a))\n",
    "print(product(a))"
   ]
  },
  {
   "cell_type": "markdown",
   "metadata": {},
   "source": [
    "### b)"
   ]
  },
  {
   "cell_type": "code",
   "execution_count": 22,
   "metadata": {},
   "outputs": [
    {
     "name": "stdout",
     "output_type": "stream",
     "text": [
      "1331.0\n",
      "133.1\n",
      "1530354394800\n"
     ]
    }
   ],
   "source": [
    "print(find_sum(b))\n",
    "print(mean(b))\n",
    "print(product(b))"
   ]
  },
  {
   "cell_type": "code",
   "execution_count": 24,
   "metadata": {},
   "outputs": [],
   "source": [
    "for x in range(100):\n",
    "    out = \"\"\n",
    "    if x % 3 == 0:\n",
    "        out += \"Fizz\"\n",
    "    if x % 5 == 0:\n",
    "        out += \"Buzz\"\n",
    "    if out == \"\":\n",
    "        out = x\n",
    "    #print(out)"
   ]
  },
  {
   "cell_type": "markdown",
   "metadata": {},
   "source": [
    "# Categorize them into above-average and below-average"
   ]
  },
  {
   "cell_type": "code",
   "execution_count": 25,
   "metadata": {},
   "outputs": [],
   "source": [
    "prices = {\"AAPL\": 454.45, \"MSFT\": 32.70, \"AMZN\": 297.26, \"ORCL\": 32.92}"
   ]
  },
  {
   "cell_type": "code",
   "execution_count": 29,
   "metadata": {},
   "outputs": [
    {
     "name": "stdout",
     "output_type": "stream",
     "text": [
      "204.33249999999998\n",
      "{'Above Average': ['AAPL', 'AMZN'], 'Below Average': ['MSFT', 'ORCL']}\n"
     ]
    }
   ],
   "source": [
    "# Create stock categories:\n",
    "# Create dictionary with categories as keys and an empty list as values. \n",
    "\n",
    "# Calculate the average for all. \n",
    "stock_average = mean(prices.values())\n",
    "print(stock_average)\n",
    "stock_types = {\"Above Average\": [], \"Below Average\": []}\n",
    "for stock in prices:\n",
    "    if prices[stock] > stock_average:\n",
    "        stock_types[\"Above Average\"].append(stock)\n",
    "    else: \n",
    "        stock_types[\"Below Average\"].append(stock)\n",
    "\n",
    "print(stock_types)"
   ]
  },
  {
   "cell_type": "code",
   "execution_count": null,
   "metadata": {},
   "outputs": [],
   "source": []
  }
 ],
 "metadata": {
  "kernelspec": {
   "display_name": "Python 3",
   "language": "python",
   "name": "python3"
  },
  "language_info": {
   "codemirror_mode": {
    "name": "ipython",
    "version": 3
   },
   "file_extension": ".py",
   "mimetype": "text/x-python",
   "name": "python",
   "nbconvert_exporter": "python",
   "pygments_lexer": "ipython3",
   "version": "3.7.3"
  }
 },
 "nbformat": 4,
 "nbformat_minor": 2
}
