{
 "cells": [
  {
   "cell_type": "code",
   "execution_count": 1,
   "metadata": {},
   "outputs": [],
   "source": [
    "file = open('quakedata.csv')"
   ]
  },
  {
   "cell_type": "code",
   "execution_count": 3,
   "metadata": {},
   "outputs": [
    {
     "name": "stdout",
     "output_type": "stream",
     "text": [
      "DateTime,Latitude,Longitude,Depth,Magnitude,MagType,NbStations,Gap,Distance,RMS,Source,EventID,Version\n",
      "\n",
      "2012-01-01T00:30:08.770+00:00,12.008,143.487,35.0,5.1,mb,178,45,,1.20,pde,pde20120101003008770_35,1363392487731\n",
      "\n",
      "2012-01-01T00:43:42.770+00:00,12.014,143.536,35.0,4.4,mb,29,121,,0.98,pde,pde20120101004342770_35,1363392488431\n",
      "\n",
      "2012-01-01T00:50:08.040+00:00,-11.366,166.218,67.5,5.3,mb,143,43,,0.82,pde,pde20120101005008040_67,1363392488479\n",
      "\n",
      "2012-01-01T01:22:07.660+00:00,-6.747,130.008,145.0,4.2,mb,14,112,,1.16,pde,pde20120101012207660_145,1363392488594\n",
      "\n"
     ]
    }
   ],
   "source": [
    "for i in range(5):\n",
    "    read_lines = file.readline()\n",
    "    print(read_lines)"
   ]
  },
  {
   "cell_type": "code",
   "execution_count": 29,
   "metadata": {},
   "outputs": [
    {
     "name": "stdout",
     "output_type": "stream",
     "text": [
      "DateTime,Latitude,Longitude,Depth,Magnitude,MagType,NbStations,Gap,Distance,RMS,Source,EventID,Version\n",
      "\n"
     ]
    }
   ],
   "source": [
    "#file.seek(0)\n",
    "#file.readline()\n",
    "rows = []\n",
    "file = open(\"quakedata.csv\")\n",
    "first_line = file.readline()\n",
    "print(first_line)\n",
    "for raw_rows in file:\n",
    "    row = raw_rows.split(',')\n",
    "    rows.append(row)"
   ]
  },
  {
   "cell_type": "code",
   "execution_count": 35,
   "metadata": {},
   "outputs": [
    {
     "name": "stdout",
     "output_type": "stream",
     "text": [
      "['2012-01-01T00:30:08.770+00:00', '12.008', '143.487', '35.0', '5.1', 'mb', '178', '45', '', '1.20', 'pde', 'pde20120101003008770_35', '1363392487731\\n']\n",
      "['2012-01-01T00:43:42.770+00:00', '12.014', '143.536', '35.0', '4.4', 'mb', '29', '121', '', '0.98', 'pde', 'pde20120101004342770_35', '1363392488431\\n']\n"
     ]
    }
   ],
   "source": [
    "\n",
    "print(rows[0])\n",
    "print(rows[1])"
   ]
  },
  {
   "cell_type": "code",
   "execution_count": 28,
   "metadata": {
    "scrolled": true
   },
   "outputs": [
    {
     "name": "stdout",
     "output_type": "stream",
     "text": [
      "12685\n"
     ]
    }
   ],
   "source": [
    "print(len(rows))"
   ]
  },
  {
   "cell_type": "code",
   "execution_count": 48,
   "metadata": {},
   "outputs": [],
   "source": [
    "def convert_to_float(text):\n",
    "    try:\n",
    "        return float(text)\n",
    "    except:\n",
    "        return None"
   ]
  },
  {
   "cell_type": "code",
   "execution_count": 253,
   "metadata": {},
   "outputs": [
    {
     "name": "stdout",
     "output_type": "stream",
     "text": [
      "DateTime,Latitude,Longitude,Depth,Magnitude,MagType,NbStations,Gap,Distance,RMS,Source,EventID,Version\n",
      "\n",
      "['2012-01-01T00:43:42.770+00:00', '12.014', '143.536', '35.0', 4.4, 'mb', '29', '121', '', '0.98', 'pde', 'pde20120101004342770_35', '1363392488431\\n']\n"
     ]
    }
   ],
   "source": [
    "rows = []\n",
    "hours = []\n",
    "file = open(\"quakedata.csv\")\n",
    "first_line = file.readline()\n",
    "print(first_line)\n",
    "for raw_rows in file:\n",
    "    row = raw_rows.split(',')\n",
    "    row[4] = convert_to_float(row[4])\n",
    "    rows.append(row)\n",
    "    year = row[0][:-25]\n",
    "    month = row[0][5:-22]\n",
    "    day = row[0][8:-19]\n",
    "    hour = row[0][11:-16]\n",
    "    minute = row[0][14:-13]\n",
    "    seconds = row[0][17:-10]\n",
    "    #print(hour)\n",
    "    hours.append(hour)\n",
    "print(rows[1])"
   ]
  },
  {
   "cell_type": "code",
   "execution_count": 254,
   "metadata": {},
   "outputs": [
    {
     "name": "stdout",
     "output_type": "stream",
     "text": [
      "00\n",
      "12684\n",
      "06\n",
      "<class 'list'>\n"
     ]
    }
   ],
   "source": [
    "print(hours[0])\n",
    "print(len(hours))\n",
    "print(hours[12])\n",
    "print(type(hours))"
   ]
  },
  {
   "cell_type": "code",
   "execution_count": 255,
   "metadata": {},
   "outputs": [
    {
     "name": "stdout",
     "output_type": "stream",
     "text": [
      "['00', '00', '00', '01', '02', '02', '02', '03', '04', '04', '05', '05', '06', '07', '08', '08', '08', '08', '09', '09', '10', '10', '11', '11', '11', '11', '12', '12', '14', '14', '15', '15', '16', '16', '16', '17', '18', '18', '19', '20', '21', '21', '21', '22', '23', '02', '03', '05', '06', '06']\n"
     ]
    }
   ],
   "source": [
    "print(hours[:50])"
   ]
  },
  {
   "cell_type": "code",
   "execution_count": 262,
   "metadata": {},
   "outputs": [
    {
     "name": "stdout",
     "output_type": "stream",
     "text": [
      "Between Midnight and Noon: 6241\n",
      "Between Noon and Midnight: 6443\n"
     ]
    }
   ],
   "source": [
    "# hours is a list containing all the hours \n",
    "def convert_to_int(text):\n",
    "    try: \n",
    "        return int(text)\n",
    "    except:\n",
    "        pass\n",
    "    \n",
    "before_noon = []\n",
    "after_noon = []\n",
    "for x in hours:\n",
    "    hours_int = convert_to_int(x)\n",
    "    if hours_int >= 12:\n",
    "        after_noon.append(hours_int)\n",
    "    else:\n",
    "        before_noon.append(hours_int)\n",
    "print(\"Between Midnight and Noon:\",len(before_noon))\n",
    "print(\"Between Noon and Midnight:\", len(after_noon))"
   ]
  },
  {
   "cell_type": "code",
   "execution_count": 251,
   "metadata": {},
   "outputs": [
    {
     "name": "stdout",
     "output_type": "stream",
     "text": [
      "['2012-01-01T11:02:54.430+00:00', '11.993', '143.377', '35.0', 4.8, 'mb', '92', '88', '', '1.11', 'pde', 'pde20120101110254430_35', '1363392490089\\n']\n"
     ]
    }
   ],
   "source": [
    "print(rows[22])"
   ]
  },
  {
   "cell_type": "code",
   "execution_count": 50,
   "metadata": {},
   "outputs": [],
   "source": [
    "# row[4] magnitude \n",
    "all_magnitude = [row[4] for row in rows]"
   ]
  },
  {
   "cell_type": "code",
   "execution_count": 51,
   "metadata": {},
   "outputs": [
    {
     "name": "stdout",
     "output_type": "stream",
     "text": [
      "5.1\n",
      "4.4\n"
     ]
    }
   ],
   "source": [
    "print(all_magnitude[0])\n",
    "print(all_magnitude[1])"
   ]
  },
  {
   "cell_type": "code",
   "execution_count": 42,
   "metadata": {},
   "outputs": [],
   "source": [
    "def find_mean(num_list):\n",
    "    total = 0.0\n",
    "    for x in num_list:\n",
    "        total += x\n",
    "    return total / len(num_list)"
   ]
  },
  {
   "cell_type": "code",
   "execution_count": 52,
   "metadata": {
    "scrolled": true
   },
   "outputs": [
    {
     "data": {
      "text/plain": [
       "4.558483128350625"
      ]
     },
     "execution_count": 52,
     "metadata": {},
     "output_type": "execute_result"
    }
   ],
   "source": [
    "find_mean(all_magnitude)"
   ]
  },
  {
   "cell_type": "code",
   "execution_count": 68,
   "metadata": {},
   "outputs": [
    {
     "name": "stdout",
     "output_type": "stream",
     "text": [
      "01 01 2012\n",
      "['2012-01-01T00:30:08.770+00:00', '12.008', '143.487', '35.0', 5.1, 'mb', '178', '45', '', '1.20', 'pde', 'pde20120101003008770_35', '1363392487731\\n']\n"
     ]
    }
   ],
   "source": [
    "#print(rows[1][0][0:4])\n",
    "#print(rows[1][0][5:7])\n",
    "#print(rows[1][0][8:10])\n",
    "year = rows[1][0][0:4]\n",
    "month = rows[1][0][5:7]\n",
    "day = rows[1][0][8:10]\n",
    "print(month, day, year)\n",
    "print(rows[0])\n"
   ]
  },
  {
   "cell_type": "code",
   "execution_count": null,
   "metadata": {},
   "outputs": [],
   "source": [
    "#year = int(date_str[0:4])\n",
    "#def make_date(date_str):\n",
    "    #year = date_str(rows[1][0][0:4])\n",
    "   #month = date_str(rows[1][0][5:7])\n",
    "    #day = date_str(rows[1][0][8:10])\n",
    "    #month, day, year = date_str.split('-')\n",
    "   # m = int(m)\n",
    "    #d = int(d)\n",
    "   # y = int(date_str[0:4])"
   ]
  },
  {
   "cell_type": "code",
   "execution_count": 180,
   "metadata": {},
   "outputs": [
    {
     "name": "stdout",
     "output_type": "stream",
     "text": [
      "[['2012-01-01T00:30:08.770+00:00', '12.008', '143.487', '35.0', 5.1, 'mb', '178', '45', '', '1.20', 'pde', 'pde20120101003008770_35', '1363392487731\\n'], ['2012-01-01T00:43:42.770+00:00', '12.014', '143.536', '35.0', 4.4, 'mb', '29', '121', '', '0.98', 'pde', 'pde20120101004342770_35', '1363392488431\\n']]\n"
     ]
    }
   ],
   "source": [
    "# I need to split up the first column/date into just date only. \n",
    "# \n",
    "date_str = str(rows[:2])\n",
    "print(date_str)"
   ]
  },
  {
   "cell_type": "code",
   "execution_count": 181,
   "metadata": {},
   "outputs": [
    {
     "name": "stdout",
     "output_type": "stream",
     "text": [
      "2012\n"
     ]
    }
   ],
   "source": [
    "year = date_str[:-25][3:7]\n",
    "print(year)\n"
   ]
  },
  {
   "cell_type": "code",
   "execution_count": null,
   "metadata": {},
   "outputs": [],
   "source": []
  }
 ],
 "metadata": {
  "kernelspec": {
   "display_name": "Python 3",
   "language": "python",
   "name": "python3"
  },
  "language_info": {
   "codemirror_mode": {
    "name": "ipython",
    "version": 3
   },
   "file_extension": ".py",
   "mimetype": "text/x-python",
   "name": "python",
   "nbconvert_exporter": "python",
   "pygments_lexer": "ipython3",
   "version": "3.7.3"
  }
 },
 "nbformat": 4,
 "nbformat_minor": 2
}
