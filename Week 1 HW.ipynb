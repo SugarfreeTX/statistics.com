{
 "cells": [
  {
   "cell_type": "markdown",
   "metadata": {},
   "source": [
    "# Week 1 Homework: Introduction to Python\n",
    "\n",
    "Create a new IPython Notebook (or copy this one), and use it to answer the following assignments. If you'd prefer not to use IPython, use another interpreter and answer the same questions."
   ]
  },
  {
   "cell_type": "markdown",
   "metadata": {},
   "source": [
    "## Question 1\n",
    "\n",
    "Create a Python list with the following values:\n",
    "[1, 2, 4, 10, 12, 117, 1244]\n",
    "\n",
    "a. Compute the sum of the values.\n",
    "def added(list_value):\n",
    "\ttotal = 0\n",
    "\tfor x in list_value:\n",
    "\t\ttotal += x\n",
    "\treturn total \n",
    "\n",
    "print(added(list_value))\n",
    "\n",
    "1390\n",
    "\n",
    "\n",
    "b. Compute the mean of the values.\n",
    "\n",
    "def find_mean(list_value):\n",
    "\ttotal = 0\n",
    "\tfor x in list_value:\n",
    "\t\ttotal += x\n",
    "\treturn total / len(list_value)\n",
    "print(find_mean(list_value))\n",
    "\n",
    "198.57142857142585\n",
    "\n",
    "c. Compute the product of all the numbers (multiply them all together).\n",
    "def product(list_value):\n",
    "\tproduct = 1\n",
    "\tfor x in list_value:\n",
    "\t\tproduct *= x\n",
    "\treturn product\n",
    "print(product(list_value))\n",
    "\n",
    "139726080\n"
   ]
  },
  {
   "cell_type": "markdown",
   "metadata": {},
   "source": [
    "## Question 2\n",
    "\n",
    "Write functions to do all the operations above; repeat them on the following lists of numbers:\n",
    "\n",
    "a. [3, 2, 3, 3, 3, 2, 8, 2, 2, 126] \n",
    "\n",
    "# find total of list \n",
    "def added(list_a):\n",
    "\ttotal = 0\n",
    "\tfor x in list_a:\n",
    "\t\ttotal += x\n",
    "\treturn total \n",
    "print(added(list_a))\n",
    "154\n",
    "\n",
    "# find mean of list\n",
    "def find_mean(list_a):\n",
    "\ttotal = 0\n",
    "\tfor x in list_a:\n",
    "\t\ttotal += x\n",
    "\treturn total / len(list_a)\n",
    "print(find_mean(list_a))\n",
    "15.4\n",
    "# find the product/multiply all \n",
    "def product(list_a):\n",
    "\tproduct = 1\n",
    "\tfor x in list_a:\n",
    "\t\tproduct *= x\n",
    "\treturn product\n",
    "print(product(list_a))\n",
    "1306368\n",
    "b. [7, 267, 4, 2, 5, 319, 5, 6, 713, 3]\n",
    "\n",
    "# find total of list \n",
    "def added(list_b):\n",
    "\ttotal = 0\n",
    "\tfor x in list_b:\n",
    "\t\ttotal += x\n",
    "\treturn total \n",
    "print(added(list_b))\n",
    "1331\n",
    "# find the mean\n",
    "def find_mean(list_b):\n",
    "\ttotal = 0\n",
    "\tfor x in list_b:\n",
    "\t\ttotal += x\n",
    "\treturn total / len(list_b)\n",
    "print(find_mean(list_b))\n",
    "133.1\n",
    "# find the product/multiply all \n",
    "def product(list_b):\n",
    "\tproduct = 1\n",
    "\tfor x in list_b:\n",
    "\t\tproduct *= x\n",
    "\treturn product\n",
    "print(product(list_b))\n",
    "1530354394800"
   ]
  },
  {
   "cell_type": "markdown",
   "metadata": {},
   "source": [
    "## Question 3\n",
    "\n",
    "FizzBuzz is a classic programming exercise. Iterate over the numbers from 0 to 99 and for each number:\n",
    "\n",
    "* If the number is divisible by 3, print Fizz\n",
    "\n",
    "* If the number is divisible by 5, print Buzz\n",
    "\n",
    "* If the number is divisible by both 3 and 5, print Fizz Buzz\n",
    "\n",
    "* Otherwise, just print the number.\n",
    "\n",
    "**Hint:** The modulo operator which gives you a division remainder is the percentage sign, %. For example:"
   ]
  },
  {
   "cell_type": "code",
   "execution_count": 1,
   "metadata": {},
   "outputs": [
    {
     "data": {
      "text/plain": [
       "0"
      ]
     },
     "execution_count": 1,
     "metadata": {},
     "output_type": "execute_result"
    }
   ],
   "source": [
    "4 % 2"
   ]
  },
  {
   "cell_type": "code",
   "execution_count": 2,
   "metadata": {},
   "outputs": [
    {
     "data": {
      "text/plain": [
       "1"
      ]
     },
     "execution_count": 2,
     "metadata": {},
     "output_type": "execute_result"
    }
   ],
   "source": [
    "5 % 2"
   ]
  },
  {
   "cell_type": "markdown",
   "metadata": {},
   "source": [
    "### Answer: \n",
    "    \n",
    "    if number % 3 ==0:\n",
    "\t\tprint(\"Fizz\")\n",
    "\telif number % 5 ==0:\n",
    "\t\tprint(\"Buzz\")\n",
    "\telif number % 3==0 and number % 5==0:\n",
    "\t\tprint(\"Fizz Buzz\")\n",
    "\telse:\n",
    "\t\tprint(number)"
   ]
  },
  {
   "cell_type": "code",
   "execution_count": null,
   "metadata": {},
   "outputs": [],
   "source": []
  }
 ],
 "metadata": {
  "kernelspec": {
   "display_name": "Python 3",
   "language": "python",
   "name": "python3"
  },
  "language_info": {
   "codemirror_mode": {
    "name": "ipython",
    "version": 3
   },
   "file_extension": ".py",
   "mimetype": "text/x-python",
   "name": "python",
   "nbconvert_exporter": "python",
   "pygments_lexer": "ipython3",
   "version": "3.7.3"
  }
 },
 "nbformat": 4,
 "nbformat_minor": 1
}
